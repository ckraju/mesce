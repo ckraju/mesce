{
  "nbformat": 4,
  "nbformat_minor": 0,
  "metadata": {
    "colab": {
      "name": "diabetes-pandas.ipynb",
      "version": "0.3.2",
      "provenance": [],
      "collapsed_sections": [],
      "include_colab_link": true
    },
    "kernelspec": {
      "name": "python3",
      "display_name": "Python 3"
    }
  },
  "cells": [
    {
      "cell_type": "markdown",
      "metadata": {
        "id": "view-in-github",
        "colab_type": "text"
      },
      "source": [
        "<a href=\"https://colab.research.google.com/github/ckraju/mesce/blob/master/diabetes_pandas.ipynb\" target=\"_parent\"><img src=\"https://colab.research.google.com/assets/colab-badge.svg\" alt=\"Open In Colab\"/></a>"
      ]
    },
    {
      "cell_type": "code",
      "metadata": {
        "id": "ZYUuODpIbHpu",
        "colab_type": "code",
        "colab": {
          "resources": {
            "http://localhost:8080/nbextensions/google.colab/files.js": {
              "data": "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",
              "ok": true,
              "headers": [
                [
                  "content-type",
                  "application/javascript"
                ]
              ],
              "status": 200,
              "status_text": "OK"
            }
          },
          "base_uri": "https://localhost:8080/",
          "height": 79
        },
        "outputId": "9b77c04e-6b00-4a75-9fb1-23c36d75203d"
      },
      "source": [
        "from google.colab import files\n",
        "uploaded = files.upload()"
      ],
      "execution_count": 1,
      "outputs": [
        {
          "output_type": "display_data",
          "data": {
            "text/html": [
              "\n",
              "     <input type=\"file\" id=\"files-461c4aa8-49af-4ff3-bfd5-812c9909b46a\" name=\"files[]\" multiple disabled />\n",
              "     <output id=\"result-461c4aa8-49af-4ff3-bfd5-812c9909b46a\">\n",
              "      Upload widget is only available when the cell has been executed in the\n",
              "      current browser session. Please rerun this cell to enable.\n",
              "      </output>\n",
              "      <script src=\"/nbextensions/google.colab/files.js\"></script> "
            ],
            "text/plain": [
              "<IPython.core.display.HTML object>"
            ]
          },
          "metadata": {
            "tags": []
          }
        },
        {
          "output_type": "stream",
          "text": [
            "Saving pima-indians-diabetes.csv to pima-indians-diabetes (2).csv\n"
          ],
          "name": "stdout"
        }
      ]
    },
    {
      "cell_type": "code",
      "metadata": {
        "id": "vZbF5toObZ4t",
        "colab_type": "code",
        "colab": {}
      },
      "source": [
        "import pandas as pd\n"
      ],
      "execution_count": 0,
      "outputs": []
    },
    {
      "cell_type": "code",
      "metadata": {
        "id": "DAIabSxIbcrT",
        "colab_type": "code",
        "colab": {}
      },
      "source": [
        "import io\n",
        "\n",
        "df2 = pd.read_csv(io.BytesIO(uploaded['pima-indians-diabetes.csv']))\n",
        "\n",
        "# Dataset is now stored in a Pandas Dataframe"
      ],
      "execution_count": 0,
      "outputs": []
    },
    {
      "cell_type": "markdown",
      "metadata": {
        "id": "UtpPyoEKch6B",
        "colab_type": "text"
      },
      "source": [
        ""
      ]
    },
    {
      "cell_type": "code",
      "metadata": {
        "id": "Ai24xiVNelLZ",
        "colab_type": "code",
        "colab": {}
      },
      "source": [
        "# Visualize training history\n",
        "from keras.models import Sequential\n",
        "from keras.layers import Dense\n",
        "import matplotlib.pyplot as plt\n",
        "import numpy\n",
        "from keras.utils import to_categorical"
      ],
      "execution_count": 0,
      "outputs": []
    },
    {
      "cell_type": "code",
      "metadata": {
        "id": "HKPD3qUQeoDe",
        "colab_type": "code",
        "colab": {}
      },
      "source": [
        "# fix random seed for reproducibility\n",
        "seed = 7\n",
        "numpy.random.seed(seed)\n",
        "# load pima indians dataset\n",
        "dataset = numpy.loadtxt(\"pima-indians-diabetes.csv\", delimiter=\",\")\n",
        "# split into input (X) and output (Y) variables\n",
        "X = dataset[:,0:8]\n",
        "Y = dataset[:,8]"
      ],
      "execution_count": 0,
      "outputs": []
    },
    {
      "cell_type": "code",
      "metadata": {
        "id": "JVlDc58yfOId",
        "colab_type": "code",
        "colab": {
          "base_uri": "https://localhost:8080/",
          "height": 139
        },
        "outputId": "2c2ecbfc-1de9-42f0-9c5a-70ce0e91187c"
      },
      "source": [
        "X"
      ],
      "execution_count": 15,
      "outputs": [
        {
          "output_type": "execute_result",
          "data": {
            "text/plain": [
              "array([[  6.   , 148.   ,  72.   , ...,  33.6  ,   0.627,  50.   ],\n",
              "       [  1.   ,  85.   ,  66.   , ...,  26.6  ,   0.351,  31.   ],\n",
              "       [  8.   , 183.   ,  64.   , ...,  23.3  ,   0.672,  32.   ],\n",
              "       ...,\n",
              "       [  5.   , 121.   ,  72.   , ...,  26.2  ,   0.245,  30.   ],\n",
              "       [  1.   , 126.   ,  60.   , ...,  30.1  ,   0.349,  47.   ],\n",
              "       [  1.   ,  93.   ,  70.   , ...,  30.4  ,   0.315,  23.   ]])"
            ]
          },
          "metadata": {
            "tags": []
          },
          "execution_count": 15
        }
      ]
    },
    {
      "cell_type": "code",
      "metadata": {
        "id": "eKIfHEqOfTzR",
        "colab_type": "code",
        "colab": {
          "base_uri": "https://localhost:8080/",
          "height": 816
        },
        "outputId": "16a1a215-be0c-4873-cc89-df60df234d80"
      },
      "source": [
        "Y"
      ],
      "execution_count": 16,
      "outputs": [
        {
          "output_type": "execute_result",
          "data": {
            "text/plain": [
              "array([1., 0., 1., 0., 1., 0., 1., 0., 1., 1., 0., 1., 0., 1., 1., 1., 1.,\n",
              "       1., 0., 1., 0., 0., 1., 1., 1., 1., 1., 0., 0., 0., 0., 1., 0., 0.,\n",
              "       0., 0., 0., 1., 1., 1., 0., 0., 0., 1., 0., 1., 0., 0., 1., 0., 0.,\n",
              "       0., 0., 1., 0., 0., 1., 0., 0., 0., 0., 1., 0., 0., 1., 0., 1., 0.,\n",
              "       0., 0., 1., 0., 1., 0., 0., 0., 0., 0., 1., 0., 0., 0., 0., 0., 1.,\n",
              "       0., 0., 0., 1., 0., 0., 0., 0., 1., 0., 0., 0., 0., 0., 1., 1., 0.,\n",
              "       0., 0., 0., 0., 0., 0., 0., 1., 1., 1., 0., 0., 1., 1., 1., 0., 0.,\n",
              "       0., 1., 0., 0., 0., 1., 1., 0., 0., 1., 1., 1., 1., 1., 0., 0., 0.,\n",
              "       0., 0., 0., 0., 0., 0., 0., 1., 0., 0., 0., 0., 0., 0., 0., 0., 1.,\n",
              "       0., 1., 1., 0., 0., 0., 1., 0., 0., 0., 0., 1., 1., 0., 0., 0., 0.,\n",
              "       1., 1., 0., 0., 0., 1., 0., 1., 0., 1., 0., 0., 0., 0., 0., 1., 1.,\n",
              "       1., 1., 1., 0., 0., 1., 1., 0., 1., 0., 1., 1., 1., 0., 0., 0., 0.,\n",
              "       0., 0., 1., 1., 0., 1., 0., 0., 0., 1., 1., 1., 1., 0., 1., 1., 1.,\n",
              "       1., 0., 0., 0., 0., 0., 1., 0., 0., 1., 1., 0., 0., 0., 1., 1., 1.,\n",
              "       1., 0., 0., 0., 1., 1., 0., 1., 0., 0., 0., 0., 0., 0., 0., 0., 1.,\n",
              "       1., 0., 0., 0., 1., 0., 1., 0., 0., 1., 0., 1., 0., 0., 1., 1., 0.,\n",
              "       0., 0., 0., 0., 1., 0., 0., 0., 1., 0., 0., 1., 1., 0., 0., 1., 0.,\n",
              "       0., 0., 1., 1., 1., 0., 0., 1., 0., 1., 0., 1., 1., 0., 1., 0., 0.,\n",
              "       1., 0., 1., 1., 0., 0., 1., 0., 1., 0., 0., 1., 0., 1., 0., 1., 1.,\n",
              "       1., 0., 0., 1., 0., 1., 0., 0., 0., 1., 0., 0., 0., 0., 1., 1., 1.,\n",
              "       0., 0., 0., 0., 0., 0., 0., 0., 0., 1., 0., 0., 0., 0., 0., 1., 1.,\n",
              "       1., 0., 1., 1., 0., 0., 1., 0., 0., 1., 0., 0., 1., 1., 0., 0., 0.,\n",
              "       0., 1., 0., 0., 1., 0., 0., 0., 0., 0., 0., 0., 1., 1., 1., 0., 0.,\n",
              "       1., 0., 0., 1., 0., 0., 1., 0., 1., 1., 0., 1., 0., 1., 0., 1., 0.,\n",
              "       1., 1., 0., 0., 0., 0., 1., 1., 0., 1., 0., 1., 0., 0., 0., 0., 1.,\n",
              "       1., 0., 1., 0., 1., 0., 0., 0., 0., 0., 1., 0., 0., 0., 0., 1., 0.,\n",
              "       0., 1., 1., 1., 0., 0., 1., 0., 0., 1., 0., 0., 0., 1., 0., 0., 1.,\n",
              "       0., 0., 0., 0., 0., 0., 0., 0., 0., 1., 0., 0., 0., 0., 0., 0., 0.,\n",
              "       1., 0., 0., 0., 1., 0., 0., 0., 1., 1., 0., 0., 0., 0., 0., 0., 0.,\n",
              "       1., 0., 0., 0., 0., 1., 0., 0., 0., 1., 0., 0., 0., 1., 0., 0., 0.,\n",
              "       1., 0., 0., 0., 0., 1., 1., 0., 0., 0., 0., 0., 0., 1., 0., 0., 0.,\n",
              "       0., 0., 0., 0., 0., 0., 0., 0., 1., 0., 0., 0., 1., 1., 1., 1., 0.,\n",
              "       0., 1., 1., 0., 0., 0., 0., 0., 0., 0., 0., 0., 0., 0., 0., 0., 1.,\n",
              "       1., 0., 0., 0., 0., 0., 0., 0., 1., 0., 0., 0., 0., 0., 0., 0., 1.,\n",
              "       0., 1., 1., 0., 0., 0., 1., 0., 1., 0., 1., 0., 1., 0., 1., 0., 0.,\n",
              "       1., 0., 0., 1., 0., 0., 0., 0., 1., 1., 0., 1., 0., 0., 0., 0., 1.,\n",
              "       1., 0., 1., 0., 0., 0., 1., 1., 0., 0., 0., 0., 0., 0., 0., 0., 0.,\n",
              "       0., 1., 0., 0., 0., 0., 1., 0., 0., 1., 0., 0., 0., 1., 0., 0., 0.,\n",
              "       1., 1., 1., 0., 0., 0., 0., 0., 0., 1., 0., 0., 0., 1., 0., 1., 1.,\n",
              "       1., 1., 0., 1., 1., 0., 0., 0., 0., 0., 0., 0., 1., 1., 0., 1., 0.,\n",
              "       0., 1., 0., 1., 0., 0., 0., 0., 0., 1., 0., 1., 0., 1., 0., 1., 1.,\n",
              "       0., 0., 0., 0., 1., 1., 0., 0., 0., 1., 0., 1., 1., 0., 0., 1., 0.,\n",
              "       0., 1., 1., 0., 0., 1., 0., 0., 1., 0., 0., 0., 0., 0., 0., 0., 1.,\n",
              "       1., 1., 0., 0., 0., 0., 0., 0., 1., 1., 0., 0., 1., 0., 0., 1., 0.,\n",
              "       1., 1., 1., 0., 0., 1., 1., 1., 0., 1., 0., 1., 0., 1., 0., 0., 0.,\n",
              "       0., 1., 0.])"
            ]
          },
          "metadata": {
            "tags": []
          },
          "execution_count": 16
        }
      ]
    },
    {
      "cell_type": "code",
      "metadata": {
        "id": "ydsfY1E2eqoy",
        "colab_type": "code",
        "colab": {}
      },
      "source": [
        "# create model\n",
        "model = Sequential()\n",
        "model.add(Dense(12, input_dim=8, kernel_initializer='uniform', activation='relu'))\n",
        "model.add(Dense(8, kernel_initializer='uniform', activation='relu'))\n",
        "model.add(Dense(1, kernel_initializer='uniform', activation='sigmoid'))"
      ],
      "execution_count": 0,
      "outputs": []
    },
    {
      "cell_type": "code",
      "metadata": {
        "id": "mzgAC0seeu19",
        "colab_type": "code",
        "colab": {
          "base_uri": "https://localhost:8080/",
          "height": 5282
        },
        "outputId": "10dcfb8e-7d12-4389-9152-927603bc8ae9"
      },
      "source": [
        "# Compile model\n",
        "model.compile(loss='binary_crossentropy', optimizer='adam', metrics=['accuracy'])\n",
        "# Fit the model\n",
        "history = model.fit(X, Y, validation_split=0.33, epochs=150, batch_size=10)\n",
        "# list all data in history\n",
        "print(history.history.keys())"
      ],
      "execution_count": 13,
      "outputs": [
        {
          "output_type": "stream",
          "text": [
            "Train on 514 samples, validate on 254 samples\n",
            "Epoch 1/150\n",
            "514/514 [==============================] - 0s 799us/step - loss: 0.6796 - acc: 0.6401 - val_loss: 0.6586 - val_acc: 0.6732\n",
            "Epoch 2/150\n",
            "514/514 [==============================] - 0s 140us/step - loss: 0.6688 - acc: 0.6401 - val_loss: 0.6533 - val_acc: 0.6732\n",
            "Epoch 3/150\n",
            "514/514 [==============================] - 0s 140us/step - loss: 0.6616 - acc: 0.6401 - val_loss: 0.6510 - val_acc: 0.6732\n",
            "Epoch 4/150\n",
            "514/514 [==============================] - 0s 154us/step - loss: 0.6540 - acc: 0.6362 - val_loss: 0.6449 - val_acc: 0.6850\n",
            "Epoch 5/150\n",
            "514/514 [==============================] - 0s 142us/step - loss: 0.6456 - acc: 0.6401 - val_loss: 0.6362 - val_acc: 0.7008\n",
            "Epoch 6/150\n",
            "514/514 [==============================] - 0s 159us/step - loss: 0.6388 - acc: 0.6440 - val_loss: 0.6244 - val_acc: 0.7008\n",
            "Epoch 7/150\n",
            "514/514 [==============================] - 0s 150us/step - loss: 0.6313 - acc: 0.6576 - val_loss: 0.6155 - val_acc: 0.6969\n",
            "Epoch 8/150\n",
            "514/514 [==============================] - 0s 139us/step - loss: 0.6221 - acc: 0.6751 - val_loss: 0.6042 - val_acc: 0.6890\n",
            "Epoch 9/150\n",
            "514/514 [==============================] - 0s 145us/step - loss: 0.6156 - acc: 0.6634 - val_loss: 0.6037 - val_acc: 0.6890\n",
            "Epoch 10/150\n",
            "514/514 [==============================] - 0s 156us/step - loss: 0.6083 - acc: 0.6984 - val_loss: 0.5930 - val_acc: 0.6969\n",
            "Epoch 11/150\n",
            "514/514 [==============================] - 0s 153us/step - loss: 0.6038 - acc: 0.6907 - val_loss: 0.6083 - val_acc: 0.7008\n",
            "Epoch 12/150\n",
            "514/514 [==============================] - 0s 152us/step - loss: 0.6060 - acc: 0.6868 - val_loss: 0.5820 - val_acc: 0.7323\n",
            "Epoch 13/150\n",
            "514/514 [==============================] - 0s 156us/step - loss: 0.6010 - acc: 0.7004 - val_loss: 0.5860 - val_acc: 0.6929\n",
            "Epoch 14/150\n",
            "514/514 [==============================] - 0s 145us/step - loss: 0.5880 - acc: 0.7140 - val_loss: 0.5759 - val_acc: 0.7165\n",
            "Epoch 15/150\n",
            "514/514 [==============================] - 0s 149us/step - loss: 0.5851 - acc: 0.7101 - val_loss: 0.5741 - val_acc: 0.7008\n",
            "Epoch 16/150\n",
            "514/514 [==============================] - 0s 147us/step - loss: 0.5944 - acc: 0.6946 - val_loss: 0.5716 - val_acc: 0.7008\n",
            "Epoch 17/150\n",
            "514/514 [==============================] - 0s 150us/step - loss: 0.5849 - acc: 0.7023 - val_loss: 0.5645 - val_acc: 0.7126\n",
            "Epoch 18/150\n",
            "514/514 [==============================] - 0s 146us/step - loss: 0.5820 - acc: 0.7101 - val_loss: 0.5678 - val_acc: 0.7205\n",
            "Epoch 19/150\n",
            "514/514 [==============================] - 0s 154us/step - loss: 0.5836 - acc: 0.7023 - val_loss: 0.5706 - val_acc: 0.7165\n",
            "Epoch 20/150\n",
            "514/514 [==============================] - 0s 148us/step - loss: 0.5766 - acc: 0.7140 - val_loss: 0.5665 - val_acc: 0.7205\n",
            "Epoch 21/150\n",
            "514/514 [==============================] - 0s 146us/step - loss: 0.5741 - acc: 0.7198 - val_loss: 0.5792 - val_acc: 0.7126\n",
            "Epoch 22/150\n",
            "514/514 [==============================] - 0s 155us/step - loss: 0.5740 - acc: 0.7276 - val_loss: 0.5633 - val_acc: 0.7087\n",
            "Epoch 23/150\n",
            "514/514 [==============================] - 0s 154us/step - loss: 0.5719 - acc: 0.7160 - val_loss: 0.5659 - val_acc: 0.7244\n",
            "Epoch 24/150\n",
            "514/514 [==============================] - 0s 155us/step - loss: 0.5578 - acc: 0.7335 - val_loss: 0.5597 - val_acc: 0.7244\n",
            "Epoch 25/150\n",
            "514/514 [==============================] - 0s 149us/step - loss: 0.5633 - acc: 0.7198 - val_loss: 0.5577 - val_acc: 0.7087\n",
            "Epoch 26/150\n",
            "514/514 [==============================] - 0s 153us/step - loss: 0.5614 - acc: 0.7315 - val_loss: 0.5667 - val_acc: 0.7205\n",
            "Epoch 27/150\n",
            "514/514 [==============================] - 0s 164us/step - loss: 0.5569 - acc: 0.7432 - val_loss: 0.5650 - val_acc: 0.7126\n",
            "Epoch 28/150\n",
            "514/514 [==============================] - 0s 178us/step - loss: 0.5573 - acc: 0.7160 - val_loss: 0.6170 - val_acc: 0.6142\n",
            "Epoch 29/150\n",
            "514/514 [==============================] - 0s 166us/step - loss: 0.5574 - acc: 0.7140 - val_loss: 0.5998 - val_acc: 0.7165\n",
            "Epoch 30/150\n",
            "514/514 [==============================] - 0s 157us/step - loss: 0.5568 - acc: 0.7218 - val_loss: 0.5693 - val_acc: 0.7323\n",
            "Epoch 31/150\n",
            "514/514 [==============================] - 0s 153us/step - loss: 0.5477 - acc: 0.7160 - val_loss: 0.5786 - val_acc: 0.7205\n",
            "Epoch 32/150\n",
            "514/514 [==============================] - 0s 155us/step - loss: 0.5578 - acc: 0.7276 - val_loss: 0.5945 - val_acc: 0.6850\n",
            "Epoch 33/150\n",
            "514/514 [==============================] - 0s 151us/step - loss: 0.5802 - acc: 0.7179 - val_loss: 0.5917 - val_acc: 0.7165\n",
            "Epoch 34/150\n",
            "514/514 [==============================] - 0s 159us/step - loss: 0.5514 - acc: 0.7335 - val_loss: 0.5671 - val_acc: 0.7087\n",
            "Epoch 35/150\n",
            "514/514 [==============================] - 0s 157us/step - loss: 0.5457 - acc: 0.7296 - val_loss: 0.5576 - val_acc: 0.7205\n",
            "Epoch 36/150\n",
            "514/514 [==============================] - 0s 151us/step - loss: 0.5533 - acc: 0.7296 - val_loss: 0.5729 - val_acc: 0.7205\n",
            "Epoch 37/150\n",
            "514/514 [==============================] - 0s 152us/step - loss: 0.5471 - acc: 0.7296 - val_loss: 0.5688 - val_acc: 0.7283\n",
            "Epoch 38/150\n",
            "514/514 [==============================] - 0s 151us/step - loss: 0.5455 - acc: 0.7412 - val_loss: 0.5474 - val_acc: 0.7323\n",
            "Epoch 39/150\n",
            "514/514 [==============================] - 0s 150us/step - loss: 0.5550 - acc: 0.7101 - val_loss: 0.5562 - val_acc: 0.7441\n",
            "Epoch 40/150\n",
            "514/514 [==============================] - 0s 155us/step - loss: 0.5465 - acc: 0.7412 - val_loss: 0.5498 - val_acc: 0.7323\n",
            "Epoch 41/150\n",
            "514/514 [==============================] - 0s 156us/step - loss: 0.5408 - acc: 0.7393 - val_loss: 0.5487 - val_acc: 0.7362\n",
            "Epoch 42/150\n",
            "514/514 [==============================] - 0s 150us/step - loss: 0.5482 - acc: 0.7374 - val_loss: 0.5796 - val_acc: 0.7205\n",
            "Epoch 43/150\n",
            "514/514 [==============================] - 0s 150us/step - loss: 0.5450 - acc: 0.7412 - val_loss: 0.5566 - val_acc: 0.7283\n",
            "Epoch 44/150\n",
            "514/514 [==============================] - 0s 150us/step - loss: 0.5454 - acc: 0.7335 - val_loss: 0.5609 - val_acc: 0.7205\n",
            "Epoch 45/150\n",
            "514/514 [==============================] - 0s 148us/step - loss: 0.5343 - acc: 0.7315 - val_loss: 0.5786 - val_acc: 0.6850\n",
            "Epoch 46/150\n",
            "514/514 [==============================] - 0s 151us/step - loss: 0.5501 - acc: 0.7160 - val_loss: 0.5534 - val_acc: 0.7244\n",
            "Epoch 47/150\n",
            "514/514 [==============================] - 0s 150us/step - loss: 0.5503 - acc: 0.7198 - val_loss: 0.5528 - val_acc: 0.7323\n",
            "Epoch 48/150\n",
            "514/514 [==============================] - 0s 149us/step - loss: 0.5408 - acc: 0.7237 - val_loss: 0.5524 - val_acc: 0.7402\n",
            "Epoch 49/150\n",
            "514/514 [==============================] - 0s 149us/step - loss: 0.5375 - acc: 0.7471 - val_loss: 0.5529 - val_acc: 0.7165\n",
            "Epoch 50/150\n",
            "514/514 [==============================] - 0s 162us/step - loss: 0.5394 - acc: 0.7354 - val_loss: 0.5636 - val_acc: 0.7087\n",
            "Epoch 51/150\n",
            "514/514 [==============================] - 0s 154us/step - loss: 0.5348 - acc: 0.7490 - val_loss: 0.5531 - val_acc: 0.7362\n",
            "Epoch 52/150\n",
            "514/514 [==============================] - 0s 152us/step - loss: 0.5376 - acc: 0.7510 - val_loss: 0.5587 - val_acc: 0.7126\n",
            "Epoch 53/150\n",
            "514/514 [==============================] - 0s 151us/step - loss: 0.5327 - acc: 0.7490 - val_loss: 0.5405 - val_acc: 0.7480\n",
            "Epoch 54/150\n",
            "514/514 [==============================] - 0s 153us/step - loss: 0.5334 - acc: 0.7257 - val_loss: 0.5507 - val_acc: 0.7402\n",
            "Epoch 55/150\n",
            "514/514 [==============================] - 0s 150us/step - loss: 0.5309 - acc: 0.7374 - val_loss: 0.5555 - val_acc: 0.7244\n",
            "Epoch 56/150\n",
            "514/514 [==============================] - 0s 148us/step - loss: 0.5418 - acc: 0.7276 - val_loss: 0.5547 - val_acc: 0.7283\n",
            "Epoch 57/150\n",
            "514/514 [==============================] - 0s 143us/step - loss: 0.5405 - acc: 0.7393 - val_loss: 0.5670 - val_acc: 0.7323\n",
            "Epoch 58/150\n",
            "514/514 [==============================] - 0s 144us/step - loss: 0.5285 - acc: 0.7296 - val_loss: 0.5623 - val_acc: 0.7047\n",
            "Epoch 59/150\n",
            "514/514 [==============================] - 0s 151us/step - loss: 0.5429 - acc: 0.7315 - val_loss: 0.5451 - val_acc: 0.7441\n",
            "Epoch 60/150\n",
            "514/514 [==============================] - 0s 146us/step - loss: 0.5349 - acc: 0.7335 - val_loss: 0.5442 - val_acc: 0.7362\n",
            "Epoch 61/150\n",
            "514/514 [==============================] - 0s 149us/step - loss: 0.5333 - acc: 0.7393 - val_loss: 0.5594 - val_acc: 0.7441\n",
            "Epoch 62/150\n",
            "514/514 [==============================] - 0s 152us/step - loss: 0.5337 - acc: 0.7335 - val_loss: 0.5487 - val_acc: 0.7362\n",
            "Epoch 63/150\n",
            "514/514 [==============================] - 0s 160us/step - loss: 0.5288 - acc: 0.7335 - val_loss: 0.5442 - val_acc: 0.7598\n",
            "Epoch 64/150\n",
            "514/514 [==============================] - 0s 163us/step - loss: 0.5320 - acc: 0.7374 - val_loss: 0.5494 - val_acc: 0.7480\n",
            "Epoch 65/150\n",
            "514/514 [==============================] - 0s 149us/step - loss: 0.5345 - acc: 0.7354 - val_loss: 0.5580 - val_acc: 0.7283\n",
            "Epoch 66/150\n",
            "514/514 [==============================] - 0s 151us/step - loss: 0.5331 - acc: 0.7315 - val_loss: 0.5337 - val_acc: 0.7638\n",
            "Epoch 67/150\n",
            "514/514 [==============================] - 0s 151us/step - loss: 0.5290 - acc: 0.7335 - val_loss: 0.5569 - val_acc: 0.7402\n",
            "Epoch 68/150\n",
            "514/514 [==============================] - 0s 155us/step - loss: 0.5340 - acc: 0.7432 - val_loss: 0.5579 - val_acc: 0.7441\n",
            "Epoch 69/150\n",
            "514/514 [==============================] - 0s 153us/step - loss: 0.5335 - acc: 0.7335 - val_loss: 0.5484 - val_acc: 0.7480\n",
            "Epoch 70/150\n",
            "514/514 [==============================] - 0s 176us/step - loss: 0.5333 - acc: 0.7412 - val_loss: 0.5396 - val_acc: 0.7362\n",
            "Epoch 71/150\n",
            "514/514 [==============================] - 0s 157us/step - loss: 0.5298 - acc: 0.7412 - val_loss: 0.5480 - val_acc: 0.7480\n",
            "Epoch 72/150\n",
            "514/514 [==============================] - 0s 152us/step - loss: 0.5271 - acc: 0.7393 - val_loss: 0.5300 - val_acc: 0.7677\n",
            "Epoch 73/150\n",
            "514/514 [==============================] - 0s 156us/step - loss: 0.5295 - acc: 0.7354 - val_loss: 0.5349 - val_acc: 0.7480\n",
            "Epoch 74/150\n",
            "514/514 [==============================] - 0s 163us/step - loss: 0.5237 - acc: 0.7412 - val_loss: 0.5433 - val_acc: 0.7520\n",
            "Epoch 75/150\n",
            "514/514 [==============================] - 0s 161us/step - loss: 0.5279 - acc: 0.7432 - val_loss: 0.5389 - val_acc: 0.7480\n",
            "Epoch 76/150\n",
            "514/514 [==============================] - 0s 160us/step - loss: 0.5213 - acc: 0.7490 - val_loss: 0.5321 - val_acc: 0.7441\n",
            "Epoch 77/150\n",
            "514/514 [==============================] - 0s 150us/step - loss: 0.5222 - acc: 0.7412 - val_loss: 0.5380 - val_acc: 0.7402\n",
            "Epoch 78/150\n",
            "514/514 [==============================] - 0s 155us/step - loss: 0.5193 - acc: 0.7412 - val_loss: 0.5304 - val_acc: 0.7717\n",
            "Epoch 79/150\n",
            "514/514 [==============================] - 0s 154us/step - loss: 0.5313 - acc: 0.7471 - val_loss: 0.5469 - val_acc: 0.7520\n",
            "Epoch 80/150\n",
            "514/514 [==============================] - 0s 154us/step - loss: 0.5217 - acc: 0.7451 - val_loss: 0.5376 - val_acc: 0.7598\n",
            "Epoch 81/150\n",
            "514/514 [==============================] - 0s 153us/step - loss: 0.5333 - acc: 0.7471 - val_loss: 0.5399 - val_acc: 0.7402\n",
            "Epoch 82/150\n",
            "514/514 [==============================] - 0s 154us/step - loss: 0.5224 - acc: 0.7354 - val_loss: 0.5303 - val_acc: 0.7638\n",
            "Epoch 83/150\n",
            "514/514 [==============================] - 0s 149us/step - loss: 0.5175 - acc: 0.7374 - val_loss: 0.5411 - val_acc: 0.7402\n",
            "Epoch 84/150\n",
            "514/514 [==============================] - 0s 156us/step - loss: 0.5281 - acc: 0.7412 - val_loss: 0.5272 - val_acc: 0.7795\n",
            "Epoch 85/150\n",
            "514/514 [==============================] - 0s 159us/step - loss: 0.5216 - acc: 0.7490 - val_loss: 0.5331 - val_acc: 0.7402\n",
            "Epoch 86/150\n",
            "514/514 [==============================] - 0s 152us/step - loss: 0.5176 - acc: 0.7393 - val_loss: 0.5403 - val_acc: 0.7559\n",
            "Epoch 87/150\n",
            "514/514 [==============================] - 0s 147us/step - loss: 0.5163 - acc: 0.7451 - val_loss: 0.5252 - val_acc: 0.7756\n",
            "Epoch 88/150\n",
            "514/514 [==============================] - 0s 148us/step - loss: 0.5189 - acc: 0.7412 - val_loss: 0.5394 - val_acc: 0.7323\n",
            "Epoch 89/150\n",
            "514/514 [==============================] - 0s 152us/step - loss: 0.5177 - acc: 0.7451 - val_loss: 0.5317 - val_acc: 0.7559\n",
            "Epoch 90/150\n",
            "514/514 [==============================] - 0s 161us/step - loss: 0.5177 - acc: 0.7529 - val_loss: 0.5386 - val_acc: 0.7323\n",
            "Epoch 91/150\n",
            "514/514 [==============================] - 0s 159us/step - loss: 0.5198 - acc: 0.7529 - val_loss: 0.5393 - val_acc: 0.7402\n",
            "Epoch 92/150\n",
            "514/514 [==============================] - 0s 153us/step - loss: 0.5260 - acc: 0.7315 - val_loss: 0.5331 - val_acc: 0.7402\n",
            "Epoch 93/150\n",
            "514/514 [==============================] - 0s 149us/step - loss: 0.5175 - acc: 0.7588 - val_loss: 0.5372 - val_acc: 0.7480\n",
            "Epoch 94/150\n",
            "514/514 [==============================] - 0s 151us/step - loss: 0.5184 - acc: 0.7510 - val_loss: 0.5224 - val_acc: 0.7677\n",
            "Epoch 95/150\n",
            "514/514 [==============================] - 0s 150us/step - loss: 0.5183 - acc: 0.7607 - val_loss: 0.5371 - val_acc: 0.7205\n",
            "Epoch 96/150\n",
            "514/514 [==============================] - 0s 148us/step - loss: 0.5250 - acc: 0.7412 - val_loss: 0.5227 - val_acc: 0.7756\n",
            "Epoch 97/150\n",
            "514/514 [==============================] - 0s 154us/step - loss: 0.5148 - acc: 0.7471 - val_loss: 0.5203 - val_acc: 0.7520\n",
            "Epoch 98/150\n",
            "514/514 [==============================] - 0s 153us/step - loss: 0.5232 - acc: 0.7257 - val_loss: 0.5363 - val_acc: 0.7441\n",
            "Epoch 99/150\n",
            "514/514 [==============================] - 0s 150us/step - loss: 0.5273 - acc: 0.7296 - val_loss: 0.5288 - val_acc: 0.7520\n",
            "Epoch 100/150\n",
            "514/514 [==============================] - 0s 151us/step - loss: 0.5193 - acc: 0.7354 - val_loss: 0.5184 - val_acc: 0.7717\n",
            "Epoch 101/150\n",
            "514/514 [==============================] - 0s 147us/step - loss: 0.5131 - acc: 0.7510 - val_loss: 0.5254 - val_acc: 0.7598\n",
            "Epoch 102/150\n",
            "514/514 [==============================] - 0s 155us/step - loss: 0.5096 - acc: 0.7549 - val_loss: 0.5159 - val_acc: 0.7795\n",
            "Epoch 103/150\n",
            "514/514 [==============================] - 0s 154us/step - loss: 0.5230 - acc: 0.7354 - val_loss: 0.5229 - val_acc: 0.7520\n",
            "Epoch 104/150\n",
            "514/514 [==============================] - 0s 151us/step - loss: 0.5147 - acc: 0.7393 - val_loss: 0.5200 - val_acc: 0.7598\n",
            "Epoch 105/150\n",
            "514/514 [==============================] - 0s 149us/step - loss: 0.5076 - acc: 0.7529 - val_loss: 0.5275 - val_acc: 0.7559\n",
            "Epoch 106/150\n",
            "514/514 [==============================] - 0s 150us/step - loss: 0.5140 - acc: 0.7451 - val_loss: 0.5219 - val_acc: 0.7598\n",
            "Epoch 107/150\n",
            "514/514 [==============================] - 0s 153us/step - loss: 0.5140 - acc: 0.7412 - val_loss: 0.5363 - val_acc: 0.7402\n",
            "Epoch 108/150\n",
            "514/514 [==============================] - 0s 155us/step - loss: 0.5215 - acc: 0.7568 - val_loss: 0.5271 - val_acc: 0.7402\n",
            "Epoch 109/150\n",
            "514/514 [==============================] - 0s 153us/step - loss: 0.5129 - acc: 0.7549 - val_loss: 0.5181 - val_acc: 0.7835\n",
            "Epoch 110/150\n",
            "514/514 [==============================] - 0s 155us/step - loss: 0.5041 - acc: 0.7549 - val_loss: 0.5607 - val_acc: 0.7323\n",
            "Epoch 111/150\n",
            "514/514 [==============================] - 0s 150us/step - loss: 0.5226 - acc: 0.7451 - val_loss: 0.5255 - val_acc: 0.7677\n",
            "Epoch 112/150\n",
            "514/514 [==============================] - 0s 148us/step - loss: 0.5062 - acc: 0.7490 - val_loss: 0.5298 - val_acc: 0.7480\n",
            "Epoch 113/150\n",
            "514/514 [==============================] - 0s 161us/step - loss: 0.5094 - acc: 0.7412 - val_loss: 0.5165 - val_acc: 0.7598\n",
            "Epoch 114/150\n",
            "514/514 [==============================] - 0s 154us/step - loss: 0.5040 - acc: 0.7412 - val_loss: 0.5133 - val_acc: 0.7756\n",
            "Epoch 115/150\n",
            "514/514 [==============================] - 0s 154us/step - loss: 0.5058 - acc: 0.7588 - val_loss: 0.5119 - val_acc: 0.7717\n",
            "Epoch 116/150\n",
            "514/514 [==============================] - 0s 153us/step - loss: 0.5037 - acc: 0.7510 - val_loss: 0.5117 - val_acc: 0.7913\n",
            "Epoch 117/150\n",
            "514/514 [==============================] - 0s 158us/step - loss: 0.5083 - acc: 0.7510 - val_loss: 0.5362 - val_acc: 0.7559\n",
            "Epoch 118/150\n",
            "514/514 [==============================] - 0s 148us/step - loss: 0.5033 - acc: 0.7451 - val_loss: 0.5162 - val_acc: 0.7717\n",
            "Epoch 119/150\n",
            "514/514 [==============================] - 0s 154us/step - loss: 0.5123 - acc: 0.7529 - val_loss: 0.5207 - val_acc: 0.7795\n",
            "Epoch 120/150\n",
            "514/514 [==============================] - 0s 147us/step - loss: 0.5005 - acc: 0.7510 - val_loss: 0.5104 - val_acc: 0.7717\n",
            "Epoch 121/150\n",
            "514/514 [==============================] - 0s 150us/step - loss: 0.5044 - acc: 0.7529 - val_loss: 0.5151 - val_acc: 0.7402\n",
            "Epoch 122/150\n",
            "514/514 [==============================] - 0s 150us/step - loss: 0.5035 - acc: 0.7510 - val_loss: 0.5056 - val_acc: 0.7835\n",
            "Epoch 123/150\n",
            "514/514 [==============================] - 0s 146us/step - loss: 0.4999 - acc: 0.7549 - val_loss: 0.5216 - val_acc: 0.7480\n",
            "Epoch 124/150\n",
            "514/514 [==============================] - 0s 149us/step - loss: 0.5006 - acc: 0.7490 - val_loss: 0.5270 - val_acc: 0.7402\n",
            "Epoch 125/150\n",
            "514/514 [==============================] - 0s 156us/step - loss: 0.5056 - acc: 0.7490 - val_loss: 0.5200 - val_acc: 0.7598\n",
            "Epoch 126/150\n",
            "514/514 [==============================] - 0s 155us/step - loss: 0.4930 - acc: 0.7510 - val_loss: 0.5265 - val_acc: 0.7441\n",
            "Epoch 127/150\n",
            "514/514 [==============================] - 0s 147us/step - loss: 0.4948 - acc: 0.7471 - val_loss: 0.5126 - val_acc: 0.7795\n",
            "Epoch 128/150\n",
            "514/514 [==============================] - 0s 145us/step - loss: 0.4988 - acc: 0.7607 - val_loss: 0.5183 - val_acc: 0.7520\n",
            "Epoch 129/150\n",
            "514/514 [==============================] - 0s 146us/step - loss: 0.5013 - acc: 0.7412 - val_loss: 0.5040 - val_acc: 0.7835\n",
            "Epoch 130/150\n",
            "514/514 [==============================] - 0s 145us/step - loss: 0.4951 - acc: 0.7451 - val_loss: 0.5064 - val_acc: 0.7795\n",
            "Epoch 131/150\n",
            "514/514 [==============================] - 0s 147us/step - loss: 0.4929 - acc: 0.7471 - val_loss: 0.5185 - val_acc: 0.7323\n",
            "Epoch 132/150\n",
            "514/514 [==============================] - 0s 148us/step - loss: 0.4956 - acc: 0.7549 - val_loss: 0.5102 - val_acc: 0.7756\n",
            "Epoch 133/150\n",
            "514/514 [==============================] - 0s 151us/step - loss: 0.4940 - acc: 0.7607 - val_loss: 0.5124 - val_acc: 0.7717\n",
            "Epoch 134/150\n",
            "514/514 [==============================] - 0s 148us/step - loss: 0.4905 - acc: 0.7549 - val_loss: 0.5111 - val_acc: 0.7559\n",
            "Epoch 135/150\n",
            "514/514 [==============================] - 0s 167us/step - loss: 0.4888 - acc: 0.7374 - val_loss: 0.5058 - val_acc: 0.7835\n",
            "Epoch 136/150\n",
            "514/514 [==============================] - 0s 147us/step - loss: 0.4912 - acc: 0.7451 - val_loss: 0.5069 - val_acc: 0.7677\n",
            "Epoch 137/150\n",
            "514/514 [==============================] - 0s 151us/step - loss: 0.5077 - acc: 0.7354 - val_loss: 0.5114 - val_acc: 0.7638\n",
            "Epoch 138/150\n",
            "514/514 [==============================] - 0s 151us/step - loss: 0.4912 - acc: 0.7568 - val_loss: 0.5067 - val_acc: 0.7638\n",
            "Epoch 139/150\n",
            "514/514 [==============================] - 0s 149us/step - loss: 0.4961 - acc: 0.7451 - val_loss: 0.5097 - val_acc: 0.7520\n",
            "Epoch 140/150\n",
            "514/514 [==============================] - 0s 146us/step - loss: 0.4881 - acc: 0.7490 - val_loss: 0.5067 - val_acc: 0.7795\n",
            "Epoch 141/150\n",
            "514/514 [==============================] - 0s 151us/step - loss: 0.4888 - acc: 0.7412 - val_loss: 0.4997 - val_acc: 0.7874\n",
            "Epoch 142/150\n",
            "514/514 [==============================] - 0s 150us/step - loss: 0.4885 - acc: 0.7549 - val_loss: 0.5020 - val_acc: 0.7717\n",
            "Epoch 143/150\n",
            "514/514 [==============================] - 0s 151us/step - loss: 0.4950 - acc: 0.7490 - val_loss: 0.4981 - val_acc: 0.7835\n",
            "Epoch 144/150\n",
            "514/514 [==============================] - 0s 149us/step - loss: 0.4961 - acc: 0.7549 - val_loss: 0.5184 - val_acc: 0.7835\n",
            "Epoch 145/150\n",
            "514/514 [==============================] - 0s 149us/step - loss: 0.4943 - acc: 0.7393 - val_loss: 0.5007 - val_acc: 0.7913\n",
            "Epoch 146/150\n",
            "514/514 [==============================] - 0s 161us/step - loss: 0.4881 - acc: 0.7354 - val_loss: 0.5145 - val_acc: 0.7795\n",
            "Epoch 147/150\n",
            "514/514 [==============================] - 0s 149us/step - loss: 0.4831 - acc: 0.7432 - val_loss: 0.5025 - val_acc: 0.7756\n",
            "Epoch 148/150\n",
            "514/514 [==============================] - 0s 150us/step - loss: 0.4922 - acc: 0.7549 - val_loss: 0.5242 - val_acc: 0.7559\n",
            "Epoch 149/150\n",
            "514/514 [==============================] - 0s 151us/step - loss: 0.4811 - acc: 0.7607 - val_loss: 0.5052 - val_acc: 0.7756\n",
            "Epoch 150/150\n",
            "514/514 [==============================] - 0s 149us/step - loss: 0.4860 - acc: 0.7626 - val_loss: 0.5099 - val_acc: 0.7598\n",
            "dict_keys(['val_loss', 'val_acc', 'loss', 'acc'])\n"
          ],
          "name": "stdout"
        }
      ]
    },
    {
      "cell_type": "code",
      "metadata": {
        "id": "xA0cQQd8cOs6",
        "colab_type": "code",
        "colab": {
          "base_uri": "https://localhost:8080/",
          "height": 573
        },
        "outputId": "01b881d0-0c21-4f7f-a934-1c6cfbf47638"
      },
      "source": [
        "# summarize history for accuracy\n",
        "plt.plot(history.history['acc'])\n",
        "plt.plot(history.history['val_acc'])\n",
        "plt.title('model accuracy')\n",
        "plt.ylabel('accuracy')\n",
        "plt.xlabel('epoch')\n",
        "plt.legend(['train', 'test'], loc='upper left')\n",
        "plt.show()\n",
        "# summarize history for loss\n",
        "plt.plot(history.history['loss'])\n",
        "plt.plot(history.history['val_loss'])\n",
        "plt.title('model loss')\n",
        "plt.ylabel('loss')\n",
        "plt.xlabel('epoch')\n",
        "plt.legend(['train', 'test'], loc='upper left')\n",
        "plt.show()"
      ],
      "execution_count": 14,
      "outputs": [
        {
          "output_type": "display_data",
          "data": {
            "image/png": "[encoded data removed]",
            "text/plain": [
              "<Figure size 432x288 with 1 Axes>"
            ]
          },
          "metadata": {
            "tags": []
          }
        },
        {
          "output_type": "display_data",
          "data": {
            "image/png": "[encoded data removed]",
            "text/plain": [
              "<Figure size 432x288 with 1 Axes>"
            ]
          },
          "metadata": {
            "tags": []
          }
        }
      ]
    }
  ]
}